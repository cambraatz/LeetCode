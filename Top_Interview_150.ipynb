{
 "cells": [
  {
   "cell_type": "markdown",
   "metadata": {},
   "source": [
    "# LeetCode - Top Interview 150\n",
    "The following LeetCode problems are organized into the following concepts:\n",
    "- [Array/String](#array_string)\n",
    "- [Two Pointers](#two_pointers)\n",
    "- [Sliding Window](#sliding_window)\n",
    "- [Matrix](#matrix)\n",
    "- [Hashmap](#hashmap)\n",
    "- [Intervals](#intervals)\n",
    "- Stack\n",
    "- Linked List\n",
    "- Binary Tree\n",
    "    - General\n",
    "    - Breadth First Search\n",
    "    - Tree Search\n",
    "- Graphs\n",
    "    - General\n",
    "    - Breadth First Search\n",
    "- Trie\n",
    "- Backtracking\n",
    "- Divide and Conquer\n",
    "- Kadane's Algorithm\n",
    "- Binary Search\n",
    "- Heap\n",
    "- Bit Manipulation\n",
    "- Math\n",
    "- One-dimensional Dynamic Programming\n",
    "- Multi-dimensional Dynamic Programming\n",
    "\n",
    "## Array / String <a id=\"array_string\"></a>\n",
    "### 12. Integer to Roman\n",
    "Same as the next challenge, but in reverse. Ultimately, the array/list approach was much quicker."
   ]
  },
  {
   "cell_type": "code",
   "execution_count": 241,
   "metadata": {},
   "outputs": [
    {
     "data": {
      "text/plain": [
       "'MMMDCCXLIX'"
      ]
     },
     "execution_count": 241,
     "metadata": {},
     "output_type": "execute_result"
    }
   ],
   "source": [
    "def intToRoman(num):\n",
    "    \"\"\"\n",
    "    :type num: int\n",
    "    :rtype: str\n",
    "    \"\"\"\n",
    "    numerals = \"\"\n",
    "\n",
    "    mapping = {\n",
    "        1000: \"M\",\n",
    "        900: \"CM\",\n",
    "        500: \"D\",\n",
    "        400: \"CD\",\n",
    "        100: \"C\",\n",
    "        90: \"XC\",\n",
    "        50: \"L\",\n",
    "        40: \"XL\",\n",
    "        10: \"X\",\n",
    "        9: \"IX\",\n",
    "        5: \"V\",\n",
    "        4: \"IV\",\n",
    "        1: \"I\"\n",
    "    }\n",
    "\n",
    "    items = mapping.items()\n",
    "    \n",
    "    for item in items:\n",
    "        while num // item[0] >= 1:\n",
    "            numerals = numerals + item[1]\n",
    "            num -= item[0]\n",
    "        \n",
    "\n",
    "    return numerals\n",
    "\n",
    "num = 3749\n",
    "intToRoman(num)"
   ]
  },
  {
   "cell_type": "code",
   "execution_count": 240,
   "metadata": {},
   "outputs": [
    {
     "data": {
      "text/plain": [
       "'MMMDCCXLIX'"
      ]
     },
     "execution_count": 240,
     "metadata": {},
     "output_type": "execute_result"
    }
   ],
   "source": [
    "def intToRoman(num):\n",
    "    \"\"\"\n",
    "    :type num: int\n",
    "    :rtype: str\n",
    "    \"\"\"\n",
    "    numerals = \"\"\n",
    "\n",
    "    values = [1000,900,500,400,100,90,50,40,10,9,5,4,1]\n",
    "    keys = [\"M\",\"CM\",\"D\",\"CD\",\"C\",\"XC\",\"L\",\"XL\",\"X\",\"IX\",\"V\",\"IV\",\"I\"]\n",
    "    \n",
    "    for i,val in enumerate(values):\n",
    "        while num // val >= 1:\n",
    "            numerals = numerals + keys[i]\n",
    "            num -= val\n",
    "\n",
    "    return numerals\n",
    "\n",
    "num = 3749\n",
    "intToRoman(num)"
   ]
  },
  {
   "cell_type": "markdown",
   "metadata": {},
   "source": [
    "### 13. Roman To Integer\n",
    "Roman numerals are represented by seven different symbols: I, V, X, L, C, D and M.\n",
    "\n",
    "|Symbol|Value|\n",
    "|--|--|\n",
    "|I|1|\n",
    "|V|5|\n",
    "|X|10|\n",
    "|L|50|\n",
    "|C|100|\n",
    "|D|500|\n",
    "|M|1000|\n",
    "\n",
    "For example, 2 is written as II in Roman numeral, just two ones added together. 12 is written as XII, which is simply X + II. The number 27 is written as XXVII, which is XX + V + II.\n",
    "\n",
    "Roman numerals are usually written largest to smallest from left to right. However, the numeral for four is not IIII. Instead, the number four is written as IV. Because the one is before the five we subtract it making four. The same principle applies to the number nine, which is written as IX. There are six instances where subtraction is used:\n",
    "\n",
    "- I can be placed before V (5) and X (10) to make 4 and 9. \n",
    "- X can be placed before L (50) and C (100) to make 40 and 90. \n",
    "- C can be placed before D (500) and M (1000) to make 400 and 900.\n",
    "\n",
    "Given a roman numeral, convert it to an integer."
   ]
  },
  {
   "cell_type": "code",
   "execution_count": 218,
   "metadata": {},
   "outputs": [
    {
     "data": {
      "text/plain": [
       "2425"
      ]
     },
     "execution_count": 218,
     "metadata": {},
     "output_type": "execute_result"
    }
   ],
   "source": [
    "def romanToInt(s):\n",
    "    \"\"\"\n",
    "    :type s: str\n",
    "    :rtype: int\n",
    "    \"\"\"\n",
    "    # define the numeral mapping...\n",
    "    mapping = {\n",
    "        \"I\": 1,\n",
    "        \"V\": 5,\n",
    "        \"X\": 10,\n",
    "        \"L\": 50,\n",
    "        \"C\": 100,\n",
    "        \"D\": 500,\n",
    "        \"M\": 1000\n",
    "    }\n",
    "\n",
    "    # store mapped values to integer list...\n",
    "    values = []\n",
    "    for num in s:\n",
    "        value = mapping.get(num)\n",
    "        values.append(value)\n",
    "\n",
    "    # initialize index and total...\n",
    "    i = 1\n",
    "    total = 0\n",
    "\n",
    "    # loop list of values starting with second index...\n",
    "    while i < len(values):\n",
    "        # update previous value...\n",
    "        previous = values[i-1]\n",
    "\n",
    "        # if previous breaks desc order, combine values and skip past value pair...\n",
    "        if previous < values[i]:\n",
    "            total += values[i] - previous\n",
    "            i += 1\n",
    "        # order is maintained, add values as typical...\n",
    "        else:\n",
    "            total += previous\n",
    "            previous = values[i]\n",
    "\n",
    "        # skip to next value...\n",
    "        i += 1\n",
    "\n",
    "    # last value was not a pair, add end value as typical...\n",
    "    if i == len(values):\n",
    "        return total + values[i-1]\n",
    "\n",
    "    return total\n",
    "\n",
    "#s = \"MCMXCIV\"\n",
    "#s = \"III\"\n",
    "s = \"MMCDXXV\"\n",
    "romanToInt(s)"
   ]
  },
  {
   "cell_type": "markdown",
   "metadata": {},
   "source": [
    "### 14. Longest Common Prefix\n",
    "Write a function to find the longest common prefix string amongst an array of strings. If there is no common prefix, return an empty string \"\".\n",
    "\n",
    "**Example 1:**<br>\n",
    "Input: strs = [\"flower\",\"flow\",\"flight\"]\n",
    "Output: \"fl\"\n",
    "\n",
    "**Example 2:**<br>\n",
    "Input: strs = [\"dog\",\"racecar\",\"car\"]\n",
    "Output: \"\"\n",
    "Explanation: There is no common prefix among the input strings.\n",
    " \n",
    "\n",
    "**Constraints:**<br>\n",
    "- 1 <= strs.length <= 200\n",
    "- 0 <= strs[i].length <= 200\n",
    "- strs[i] consists of only lowercase English letters."
   ]
  },
  {
   "cell_type": "code",
   "execution_count": 15,
   "metadata": {},
   "outputs": [
    {
     "data": {
      "text/plain": [
       "'flow'"
      ]
     },
     "execution_count": 15,
     "metadata": {},
     "output_type": "execute_result"
    }
   ],
   "source": [
    "def longestCommonPrefix_horizontal(strs):\n",
    "    \"\"\"\n",
    "    :type strs: List[str]\n",
    "    :rtype: str\n",
    "    \"\"\"\n",
    "    # start with entire str[0] as prefix...\n",
    "    prefix = strs[0]\n",
    "\n",
    "    # iterate the remaining list of strings...\n",
    "    for string in strs[1:]:\n",
    "        # iteratively shorten prefix length on mismatch...\n",
    "        while not string.startswith(prefix):\n",
    "            prefix = prefix[:-1]\n",
    "\n",
    "            # once prefix is null...\n",
    "            if not prefix:\n",
    "                return \"\"\n",
    "            \n",
    "    return prefix\n",
    "\n",
    "strs = [\"flower\",\"flows\",\"flowing\"]\n",
    "longestCommonPrefix_horizontal(strs)"
   ]
  },
  {
   "cell_type": "code",
   "execution_count": 16,
   "metadata": {},
   "outputs": [
    {
     "data": {
      "text/plain": [
       "'flow'"
      ]
     },
     "execution_count": 16,
     "metadata": {},
     "output_type": "execute_result"
    }
   ],
   "source": [
    "def longestCommonPrefix_vertical(strs):\n",
    "    \"\"\"\n",
    "    :type strs: List[str]\n",
    "    :rtype: str\n",
    "    \"\"\"\n",
    "    # increment letter count to length of first string...\n",
    "    for i in range(len(strs[0])):\n",
    "        # set match to be first letter of first string...\n",
    "        match = strs[0][i]\n",
    "        # loop strings ensuring their first i chars match...\n",
    "        for string in strs[1:]:\n",
    "            # no match or exceeding length, return...\n",
    "            if i >= len(string) or string[i] != match:\n",
    "                return strs[0][:i]\n",
    "            \n",
    "longestCommonPrefix_horizontal(strs)"
   ]
  },
  {
   "cell_type": "code",
   "execution_count": 18,
   "metadata": {},
   "outputs": [
    {
     "data": {
      "text/plain": [
       "'flow'"
      ]
     },
     "execution_count": 18,
     "metadata": {},
     "output_type": "execute_result"
    }
   ],
   "source": [
    "def longestCommonPrefix_DnC(strs):\n",
    "    \"\"\"\n",
    "    :type strs: List[str]\n",
    "    :rtype: str\n",
    "    \"\"\"\n",
    "    # find prefix of two strings...\n",
    "    def find_prefix(left,right):\n",
    "        # set iterator to min len...\n",
    "        min_length = min(len(left), len(right))\n",
    "\n",
    "        # iterate length of shorter string...\n",
    "        for i in range(min_length):\n",
    "            # if no match, return matching subarray...\n",
    "            if left[i] != right[i]:\n",
    "                return left[:i]\n",
    "            \n",
    "        # full match to shorter word...\n",
    "        return left[:min_length]\n",
    "    \n",
    "    # d+c recursion...\n",
    "    def divide_and_conquer(l,r):\n",
    "        # return word when remainder...\n",
    "        if l == r:\n",
    "            return strs[l]\n",
    "        \n",
    "        # define the middle index...\n",
    "        mid = (l+r) // 2\n",
    "\n",
    "        # recurse the left and right indices...\n",
    "        left_prefix = divide_and_conquer(l,mid)\n",
    "        right_prefix = divide_and_conquer(mid+1,r)\n",
    "\n",
    "        # return the prefix of left and right...\n",
    "        return find_prefix(left_prefix,right_prefix)\n",
    "    \n",
    "    # single call to d+c our string array...\n",
    "    return divide_and_conquer(0, len(strs)-1)\n",
    "\n",
    "longestCommonPrefix_DnC(strs)"
   ]
  },
  {
   "cell_type": "markdown",
   "metadata": {},
   "source": [
    "### 20. Valid Parentheses\n",
    "Given a string s containing just the characters '(', ')', '{', '}', '[' and ']', determine if the input string is valid.\n",
    "\n",
    "An input string is valid if:<br>\n",
    "- Open brackets must be closed by the same type of brackets.\n",
    "- Open brackets must be closed in the correct order.\n",
    "- Every close bracket has a corresponding open bracket of the same type.\n",
    "\n",
    "**Solution:**<br>\n",
    "- Create mapping of closing brackets to their respective openers\n",
    "- Iterate each character in a string:\n",
    "    - If character is a closing bracket:\n",
    "        - Set top element to last opener in stack\n",
    "            - stack.pop() to grab last addition \n",
    "        - Ensure last opener matches current closer bracket\n",
    "            - return False on fail\n",
    "    - Else:\n",
    "        - Add character to stack"
   ]
  },
  {
   "cell_type": "code",
   "execution_count": 22,
   "metadata": {},
   "outputs": [
    {
     "data": {
      "text/plain": [
       "True"
      ]
     },
     "execution_count": 22,
     "metadata": {},
     "output_type": "execute_result"
    }
   ],
   "source": [
    "def isValid(s):\n",
    "    \"\"\"\n",
    "    :type s: str\n",
    "    :rtype: bool\n",
    "    \"\"\"\n",
    "    stack = []\n",
    "\n",
    "    mapping = {\n",
    "        ')': '(',\n",
    "        '}': '{',\n",
    "        ']': '['\n",
    "    }\n",
    "\n",
    "    # iterate the chars in string...\n",
    "    for char in s:\n",
    "        # if char is a closing bracket...\n",
    "        if char in mapping:\n",
    "            # LIFO queue opening brackets...\n",
    "            last_opener = None\n",
    "            if stack:\n",
    "                last_opener = stack.pop() \n",
    "\n",
    "            # ensure match between stack element and valid pair...\n",
    "            if mapping[char] != last_opener:\n",
    "                return False\n",
    "        # add wildcard char to stack...\n",
    "        else:\n",
    "            stack.append(char)\n",
    "\n",
    "    # stack should be empty with valid bracket string...\n",
    "    return not stack\n",
    "\n",
    "parens = \"(()[]{}[])()\"\n",
    "isValid(parens)"
   ]
  },
  {
   "cell_type": "markdown",
   "metadata": {},
   "source": [
    "### 21. Merge Two Sorted Arrays\n",
    "You are given the heads of two sorted linked lists list1 and list2.\n",
    "\n",
    "Merge the two lists into one sorted list. The list should be made by splicing together the nodes of the first two lists.\n",
    "\n",
    "Return the head of the merged linked list."
   ]
  },
  {
   "cell_type": "code",
   "execution_count": 24,
   "metadata": {},
   "outputs": [
    {
     "data": {
      "text/plain": [
       "[1, 1, 2, 3, 4, 4, 6, 7, 9, 10]"
      ]
     },
     "execution_count": 24,
     "metadata": {},
     "output_type": "execute_result"
    }
   ],
   "source": [
    "def mergeTwoLists_lists(list1,list2):\n",
    "    \"\"\"\n",
    "    :type list1: Optional[ListNode]\n",
    "    :type list2: Optional[ListNode]\n",
    "    :rtype: Optional[ListNode]\n",
    "    \"\"\"\n",
    "    merge = []\n",
    "    i = j = 0\n",
    "\n",
    "    while i<len(list1) and j<len(list2):\n",
    "        if list1[i] < list2[j]:\n",
    "            merge.append(list1[i])\n",
    "            i += 1\n",
    "        else:\n",
    "            merge.append(list2[j])\n",
    "            j += 1\n",
    "    \n",
    "    while i<len(list1):\n",
    "        merge.append(list1[i])\n",
    "        i += 1\n",
    "    while j<len(list2):\n",
    "        merge.append(list2[j])\n",
    "        j += 1\n",
    "\n",
    "    return merge\n",
    "\n",
    "l1 = [1,2,4,6]\n",
    "l2 = [1,3,4,7,9,10]\n",
    "mergeTwoLists_lists(l1,l2)"
   ]
  },
  {
   "cell_type": "code",
   "execution_count": 29,
   "metadata": {},
   "outputs": [
    {
     "name": "stdout",
     "output_type": "stream",
     "text": [
      "val: 1\n",
      "val: 1\n",
      "val: 2\n",
      "val: 3\n",
      "val: 4\n",
      "val: 4\n",
      "val: 6\n",
      "val: 7\n",
      "val: 9\n",
      "val: 10\n"
     ]
    }
   ],
   "source": [
    "class ListNode(object):\n",
    "    def __init__(self, val=0, next=None):\n",
    "        self.val = val\n",
    "        self.next = next\n",
    "\n",
    "def mergeTwoLists(list1, list2):\n",
    "    \"\"\"\n",
    "    :type list1: Optional[ListNode]\n",
    "    :type list2: Optional[ListNode]\n",
    "    :rtype: Optional[ListNode]\n",
    "    \"\"\"\n",
    "    if not list1:\n",
    "        return list2\n",
    "    if not list2:\n",
    "        return list1\n",
    "\n",
    "    head = None\n",
    "    if list1.val < list2.val:\n",
    "        head = list1\n",
    "        list1 = list1.next\n",
    "    else:\n",
    "        head = list2\n",
    "        list2 = list2.next\n",
    "\n",
    "    current = head\n",
    "    while list1 and list2:\n",
    "        if list1.val < list2.val:\n",
    "            current.next = list1\n",
    "            current = list1\n",
    "            list1 = list1.next\n",
    "        else:\n",
    "            current.next = list2\n",
    "            current = list2\n",
    "            list2 = list2.next\n",
    "    while list1:\n",
    "        current.next = list1\n",
    "        current = list1\n",
    "        list1 = list1.next\n",
    "    while list2:\n",
    "        current.next = list2\n",
    "        current = list2\n",
    "        list2 = list2.next\n",
    "\n",
    "    return head\n",
    "\n",
    "l1 = [1,2,4,6]\n",
    "l2 = [1,3,4,7,9,10]\n",
    "\n",
    "list1 = ListNode(l1[0])\n",
    "curr_node = list1\n",
    "for i in range(1,len(l1)):\n",
    "    next_node = ListNode(l1[i])\n",
    "    curr_node.next = next_node\n",
    "    curr_node = next_node\n",
    "\n",
    "list2 = ListNode(l2[0])\n",
    "curr_node = list2\n",
    "for i in range(1,len(l2)):\n",
    "    next_node = ListNode(l2[i])\n",
    "    curr_node.next = next_node\n",
    "    curr_node = next_node\n",
    "\n",
    "\n",
    "merged = mergeTwoLists(list1,list2)\n",
    "while merged:\n",
    "    print(\"val:\", merged.val)\n",
    "    merged = merged.next"
   ]
  },
  {
   "cell_type": "markdown",
   "metadata": {},
   "source": [
    "### 28. Find the Index of the First Occurence in a String\n",
    "Given two strings needle and haystack, return the index of the first occurrence of needle in haystack, or -1 if needle is not part of haystack."
   ]
  },
  {
   "cell_type": "code",
   "execution_count": 44,
   "metadata": {},
   "outputs": [],
   "source": [
    "def strStr(haystack, needle):\n",
    "    for i in range(len(haystack)):\n",
    "        if haystack[i] == needle[0]:\n",
    "            j = i\n",
    "            k = 0\n",
    "            while j<len(haystack) and k<len(needle):\n",
    "                if haystack[j] != needle[k]:\n",
    "                    break\n",
    "                else:\n",
    "                    j += 1\n",
    "                    k += 1\n",
    "\n",
    "            if k==len(needle):\n",
    "                return i\n",
    "            if j==len(haystack):\n",
    "                return -1\n",
    "    return -1"
   ]
  },
  {
   "cell_type": "code",
   "execution_count": 45,
   "metadata": {},
   "outputs": [
    {
     "data": {
      "text/plain": [
       "3"
      ]
     },
     "execution_count": 45,
     "metadata": {},
     "output_type": "execute_result"
    }
   ],
   "source": [
    "haystack = \"itssadbutsad\"\n",
    "needle = \"sad\"\n",
    "\n",
    "strStr(haystack,needle)"
   ]
  },
  {
   "cell_type": "markdown",
   "metadata": {},
   "source": [
    "### 35. Search Insert Position\n",
    "Given a sorted array of distinct integers and a target value, return the index if the target is found. If not, return the index where it would be if it were inserted in order.\n",
    "\n",
    "You must write an algorithm with O(log n) runtime complexity.\n",
    "\n",
    "**Example 1:**<br>\n",
    "- Input: nums = [1,3,5,6], target = 5\n",
    "- Output: 2\n",
    "\n",
    "**Example 2:**<br>\n",
    "- Input: nums = [1,3,5,6], target = 2\n",
    "- Output: 1\n",
    "\n",
    "**Example 3:**<br>\n",
    "- Input: nums = [1,3,5,6], target = 7\n",
    "- Output: 4"
   ]
  },
  {
   "cell_type": "code",
   "execution_count": null,
   "metadata": {},
   "outputs": [
    {
     "name": "stdout",
     "output_type": "stream",
     "text": [
      "position:  6\n"
     ]
    }
   ],
   "source": [
    "def searchInsert(nums,target):\n",
    "    # initialize start/stop indices...\n",
    "    left = 0\n",
    "    right = len(nums)-1\n",
    "\n",
    "    # while indices disparate...\n",
    "    while left <= right:\n",
    "        # find middle index...\n",
    "        mid = (left+right) // 2\n",
    "\n",
    "        # return if found...\n",
    "        if nums[mid] == target:\n",
    "            return mid\n",
    "        # search left when mid > target...\n",
    "        elif nums[mid] > target:\n",
    "            right = mid-1\n",
    "        # search right when mid < target...\n",
    "        else:\n",
    "            left = mid+1\n",
    "\n",
    "    # if not found, return left...\n",
    "    return left\n",
    "\n",
    "test = [1,3,5,6,7,9,11,12,13,15]\n",
    "position = searchInsert(test, 10)\n",
    "print(\"position: \", position)"
   ]
  },
  {
   "cell_type": "markdown",
   "metadata": {},
   "source": [
    "### 55. Jump Game\n",
    "You are given an integer array nums. You are initially positioned at the array's first index, and each element in the array represents your maximum jump length at that position.\n",
    "\n",
    "Return true if you can reach the last index, or false otherwise."
   ]
  },
  {
   "cell_type": "code",
   "execution_count": 123,
   "metadata": {},
   "outputs": [
    {
     "data": {
      "text/plain": [
       "False"
      ]
     },
     "execution_count": 123,
     "metadata": {},
     "output_type": "execute_result"
    }
   ],
   "source": [
    "def canJump(nums):\n",
    "    \"\"\"\n",
    "    :type nums: List[int]\n",
    "    :rtype: bool\n",
    "    \"\"\"\n",
    "    # initialize max reach...\n",
    "    max_reach = 0\n",
    "\n",
    "    # iterate the list of jumps...\n",
    "    for i in range(len(nums)):\n",
    "        # when index surpasses reach...\n",
    "        if i > max_reach:\n",
    "            return False\n",
    "        else:\n",
    "            # when jumping nums[i] surpasses current reach...\n",
    "            if i+nums[i] > max_reach:\n",
    "                max_reach =  i + nums[i]\n",
    "\n",
    "    return max_reach >= len(nums)-1\n",
    "\n",
    "#nums = [2, 3, 1, 1, 4]\n",
    "nums = [3, 2, 1, 0, 4]\n",
    "canJump(nums)"
   ]
  },
  {
   "cell_type": "markdown",
   "metadata": {},
   "source": [
    "### 45. Jump Game II\n",
    "You are given a 0-indexed array of integers nums of length n. You are initially positioned at nums[0].\n",
    "\n",
    "Each element nums[i] represents the maximum length of a forward jump from index i. In other words, if you are at nums[i], you can jump to any nums[i + j] where:\n",
    "\n",
    "0 <= j <= nums[i] and\n",
    "\n",
    "i + j < n\n",
    "\n",
    "Return the minimum number of jumps to reach nums[n - 1]. The test cases are generated such that you can reach nums[n - 1]."
   ]
  },
  {
   "cell_type": "code",
   "execution_count": 133,
   "metadata": {},
   "outputs": [
    {
     "data": {
      "text/plain": [
       "2"
      ]
     },
     "execution_count": 133,
     "metadata": {},
     "output_type": "execute_result"
    }
   ],
   "source": [
    "def minJump(nums):\n",
    "    \"\"\"\n",
    "    :type nums: List[int]\n",
    "    :rtype: bool\n",
    "    \"\"\"\n",
    "    n = len(nums)\n",
    "    if n==1:\n",
    "        return 0\n",
    "    \n",
    "    jumps = 0\n",
    "    curr_end = 0\n",
    "    max_reach = 0\n",
    "\n",
    "    for i in range(n-1):\n",
    "        # when jump exceeds max reach...\n",
    "        if i+nums[i] > max_reach:\n",
    "            max_reach = i+nums[i]\n",
    "\n",
    "        # max jump when curr end is reached...\n",
    "        if i == curr_end:\n",
    "            jumps += 1\n",
    "            curr_end = max_reach\n",
    "\n",
    "            # if jump reaches end of list...\n",
    "            if curr_end >= n-1:\n",
    "                break\n",
    "\n",
    "    return jumps\n",
    "\n",
    "nums = [2, 3, 1, 1, 4]\n",
    "minJump(nums)"
   ]
  },
  {
   "cell_type": "markdown",
   "metadata": {},
   "source": [
    "### 58. Length of Last Word\n",
    "Given a string $s$ consisting of words and spaces, return the length of the last word in the string.\n",
    "\n",
    "A word is a maximal **substring** consisting of non-space characters only."
   ]
  },
  {
   "cell_type": "code",
   "execution_count": 74,
   "metadata": {},
   "outputs": [
    {
     "data": {
      "text/plain": [
       "5"
      ]
     },
     "execution_count": 74,
     "metadata": {},
     "output_type": "execute_result"
    }
   ],
   "source": [
    "def lengthOfLastWord(s):\n",
    "        \"\"\"\n",
    "        :type s: str\n",
    "        :rtype: int\n",
    "        \"\"\"\n",
    "        return len(s.split()[-1])\n",
    "\n",
    "test = \"Hello World\"\n",
    "lengthOfLastWord(test)"
   ]
  },
  {
   "cell_type": "markdown",
   "metadata": {},
   "source": [
    "### 66. Plus One\n",
    "You are given a large integer represented as an integer array digits, where each digits[i] is the ith digit of the integer. The digits are ordered from most significant to least significant in left-to-right order. The large integer does not contain any leading 0's.\n",
    "\n",
    "Increment the large integer by one and return the resulting array of digits."
   ]
  },
  {
   "cell_type": "code",
   "execution_count": 78,
   "metadata": {},
   "outputs": [
    {
     "data": {
      "text/plain": [
       "[1, 9, 0, 0]"
      ]
     },
     "execution_count": 78,
     "metadata": {},
     "output_type": "execute_result"
    }
   ],
   "source": [
    "def plusOne(digits):\n",
    "    \"\"\"\n",
    "    :type digits: List[int]\n",
    "    :rtype: List[int]\n",
    "    \"\"\"\n",
    "    i = len(digits)-1\n",
    "    remainder = 1\n",
    "    for i in range(len(digits)-1,-1,-1):\n",
    "        if digits[i] + remainder == 10:\n",
    "            digits[i] = 0\n",
    "            if i == 0:\n",
    "                digits = [1] + digits\n",
    "                break\n",
    "        else:\n",
    "            digits[i] += remainder\n",
    "            break\n",
    "\n",
    "    return digits\n",
    "\n",
    "\n",
    "digits = [1,8,9,9]\n",
    "plusOne(digits)"
   ]
  },
  {
   "cell_type": "markdown",
   "metadata": {},
   "source": [
    "### 67. Add Binary\n",
    "Given two binary strings $a$ and $b$, return their sum as a binary string."
   ]
  },
  {
   "cell_type": "code",
   "execution_count": 98,
   "metadata": {},
   "outputs": [
    {
     "name": "stdout",
     "output_type": "stream",
     "text": [
      "1\n",
      "2\n",
      "1\n",
      "2\n"
     ]
    },
    {
     "data": {
      "text/plain": [
       "'101101'"
      ]
     },
     "execution_count": 98,
     "metadata": {},
     "output_type": "execute_result"
    }
   ],
   "source": [
    "def addBinary(a, b):\n",
    "    \"\"\"\n",
    "    :type a: str\n",
    "    :type b: str\n",
    "    :rtype: str\n",
    "    \"\"\"\n",
    "    len_bin = max(len(a),len(b))\n",
    "    result = \"\"\n",
    "    remainder = 0\n",
    "\n",
    "    mapping = {\n",
    "        0: \"0\",\n",
    "        1: \"1\",\n",
    "        2: \"10\"\n",
    "    }\n",
    "\n",
    "    for i in range(len_bin-1,-1,-1):\n",
    "        a_val = int(a[i]) if i<len(a) else 0\n",
    "        b_val = int(b[i]) if i<len(b) else 0\n",
    "        sum_vals = a_val + b_val + remainder\n",
    "        print(sum_vals)\n",
    "        \n",
    "        if sum_vals == 2:\n",
    "            remainder = 1\n",
    "        else:\n",
    "            remainder = 0\n",
    "            \n",
    "        result = mapping.get(sum_vals) + result\n",
    "\n",
    "\n",
    "    return result\n",
    "\n",
    "a = \"1010\"\n",
    "b = \"1011\"\n",
    "addBinary(a,b)"
   ]
  },
  {
   "cell_type": "markdown",
   "metadata": {},
   "source": [
    "### 80. Remove Duplicates from Sorted Array II\n",
    "Given an integer array nums sorted in non-decreasing order, remove some duplicates in-place such that each unique element appears at most twice. The relative order of the elements should be kept the same.\n",
    "\n",
    "Since it is impossible to change the length of the array in some languages, you must instead have the result be placed in the first part of the array nums. More formally, if there are $k$ elements after removing the duplicates, then the first $k$ elements of nums should hold the final result. It does not matter what you leave beyond the first $k$ elements.\n",
    "\n",
    "Return $k$ after placing the final result in the first $k$ slots of nums.\n",
    "\n",
    "Do not allocate extra space for another array. You must do this by modifying the input array in-place with $O(1)$ extra memory.\n",
    "\n",
    "**Performance:**\n",
    "Time Complexity: $O(n)$ (each element is processed once)<br>\n",
    "Space Complexity: $O(1)$ (no additional space is used)"
   ]
  },
  {
   "cell_type": "code",
   "execution_count": 2,
   "metadata": {},
   "outputs": [
    {
     "data": {
      "text/plain": [
       "[0, 0, 1, 1, 2, 2, 3, 4, 4, 5, 5]"
      ]
     },
     "execution_count": 2,
     "metadata": {},
     "output_type": "execute_result"
    }
   ],
   "source": [
    "def removeDuplicates(nums):\n",
    "    \"\"\"\n",
    "    :type nums: List[int]\n",
    "    :rtype: int\n",
    "    \"\"\"\n",
    "    non_dupes = 0\n",
    "\n",
    "    for val in range(len(nums)):\n",
    "        if non_dupes < 2 or nums[non_dupes-2] != nums[val]:\n",
    "            nums[non_dupes] = nums[val]\n",
    "            non_dupes += 1\n",
    "\n",
    "    return non_dupes\n",
    "\n",
    "test = [0,0,0,1,1,2,2,2,3,4,4,4,5,5,5,5]\n",
    "index = removeDuplicates(test)\n",
    "test[:index]"
   ]
  },
  {
   "cell_type": "markdown",
   "metadata": {},
   "source": [
    "### 121. Best Time to Buy and Sell Stock\n",
    "You are given an array prices where prices[i] is the price of a given stock on the ith day.\n",
    "\n",
    "You want to maximize your profit by choosing a single day to buy one stock and choosing a different day in the future to sell that stock.\n",
    "\n",
    "Return the maximum profit you can achieve from this transaction. If you cannot achieve any profit, return 0."
   ]
  },
  {
   "cell_type": "code",
   "execution_count": 87,
   "metadata": {},
   "outputs": [
    {
     "name": "stdout",
     "output_type": "stream",
     "text": [
      "Buy: 1\n",
      "Sell: 6\n",
      "Gain: $5\n"
     ]
    }
   ],
   "source": [
    "def maxProfit(prices, verbose=False):\n",
    "    min_price = float(\"inf\")\n",
    "    min_index = -1\n",
    "    max_profit = 0\n",
    "    max_index = -1\n",
    "\n",
    "    for i,price in enumerate(prices):\n",
    "        # track minimum price...\n",
    "        if price < min_price:\n",
    "            min_price = price\n",
    "            min_index = i\n",
    "\n",
    "        # derive temporary profit with curr price and min...\n",
    "        profit = price - min_price\n",
    "\n",
    "        # track maximum profit...\n",
    "        if profit > max_profit:\n",
    "            max_profit = profit\n",
    "            max_index = i\n",
    "\n",
    "    if verbose:\n",
    "        print(\"Buy:\", prices[min_index])\n",
    "        print(\"Sell:\", prices[max_index])\n",
    "    \n",
    "    return max_profit\n",
    "\n",
    "prices = [7,1,5,3,6,4]\n",
    "gain = maxProfit(prices, verbose=True)\n",
    "\n",
    "print(f\"Gain: ${gain}\")"
   ]
  },
  {
   "cell_type": "code",
   "execution_count": 86,
   "metadata": {},
   "outputs": [
    {
     "name": "stdout",
     "output_type": "stream",
     "text": [
      "Gain: $5\n"
     ]
    }
   ],
   "source": [
    "def maxProfit(prices):\n",
    "    min_price = float(\"inf\")\n",
    "    max_profit = 0\n",
    "\n",
    "    for price in prices:\n",
    "        # track minimum price...\n",
    "        if price < min_price:\n",
    "            min_price = price\n",
    "\n",
    "        # derive temporary profit with curr price and min...\n",
    "        profit = price - min_price\n",
    "\n",
    "        # track maximum profit...\n",
    "        if profit > max_profit:\n",
    "            max_profit = profit\n",
    "    \n",
    "    return max_profit\n",
    "\n",
    "prices = [7,1,5,3,6,4]\n",
    "gain = maxProfit(prices)\n",
    "\n",
    "print(f\"Gain: ${gain}\")"
   ]
  },
  {
   "cell_type": "markdown",
   "metadata": {},
   "source": [
    "### 122. Best Time to Buy and Sell Stock II\n",
    "You are given an integer array prices where prices[i] is the price of a given stock on the ith day.\n",
    "\n",
    "On each day, you may decide to buy and/or sell the stock. You can only hold at most one share of the stock at any time. However, you can buy it then immediately sell it on the same day.\n",
    "\n",
    "Find and return the maximum profit you can achieve."
   ]
  },
  {
   "cell_type": "code",
   "execution_count": 118,
   "metadata": {},
   "outputs": [
    {
     "name": "stdout",
     "output_type": "stream",
     "text": [
      "Profit: $7\n"
     ]
    }
   ],
   "source": [
    "def maxProfit(prices):\n",
    "    profit = 0\n",
    "\n",
    "    for i in range(1, len(prices)):\n",
    "        if prices[i] > prices[i-1]:\n",
    "            profit += prices[i] - prices[i-1]\n",
    "\n",
    "    return profit\n",
    "\n",
    "prices = [7,1,5,3,6,4]\n",
    "\n",
    "profit = maxProfit(prices)\n",
    "print(f\"Profit: ${profit}\")"
   ]
  },
  {
   "cell_type": "markdown",
   "metadata": {},
   "source": [
    "### 169. Majority Element\n",
    "Given an array nums of size n, return the majority element.\n",
    "\n",
    "The majority element is the element that appears more than ⌊n / 2⌋ times. You may assume that the majority element always exists in the array."
   ]
  },
  {
   "cell_type": "code",
   "execution_count": 13,
   "metadata": {},
   "outputs": [
    {
     "name": "stdout",
     "output_type": "stream",
     "text": [
      "2\n"
     ]
    }
   ],
   "source": [
    "def majorityElement(nums):\n",
    "    \"\"\"\n",
    "    :type nums: List[int]\n",
    "    :rtype: int\n",
    "    \"\"\"\n",
    "    candidate = None\n",
    "    count = 0\n",
    "\n",
    "    for num in nums:\n",
    "        if count == 0:\n",
    "            candidate = num\n",
    "\n",
    "        count += 1 if num==candidate else -1\n",
    "    \n",
    "    if nums.count(candidate) > len(nums) // 2:\n",
    "        return candidate\n",
    "    else:\n",
    "        return None\n",
    "\n",
    "test = [0,0,0,1,1,2,2,2,3,4,4,4,5,5,5,5,2,2]\n",
    "valid_test = [2,2,2,2,2,2,2,2,3,4,0,0,0,1,1]\n",
    "\n",
    "majority = majorityElement(valid_test)\n",
    "\n",
    "if (majority == None):\n",
    "    print(\"No valid majority found...\")\n",
    "else:\n",
    "    print(majority)"
   ]
  },
  {
   "cell_type": "markdown",
   "metadata": {},
   "source": [
    "### 189. Rotate Array\n",
    "Given an integer array nums, rotate the array to the right by k steps, where k is non-negative"
   ]
  },
  {
   "cell_type": "code",
   "execution_count": 68,
   "metadata": {},
   "outputs": [
    {
     "name": "stdout",
     "output_type": "stream",
     "text": [
      "[5, 6, 7, 1, 2, 3, 4]\n"
     ]
    }
   ],
   "source": [
    "# using additional memory...\n",
    "def rotate(nums, k):\n",
    "    \"\"\"\n",
    "    :type nums: List[int]\n",
    "    :type k: int\n",
    "    :rtype: None Do not return anything, modify nums in-place instead.\n",
    "    \"\"\"\n",
    "    n = len(nums)\n",
    "    k = k % n\n",
    "\n",
    "    nums[:] = nums[-k:] + nums[:-k]\n",
    "\n",
    "test = [1,2,3,4,5,6,7]\n",
    "k = 3\n",
    "\n",
    "rotate(test,k)\n",
    "print(test)"
   ]
  },
  {
   "cell_type": "code",
   "execution_count": 69,
   "metadata": {},
   "outputs": [
    {
     "name": "stdout",
     "output_type": "stream",
     "text": [
      "[5, 6, 7, 1, 2, 3, 4]\n"
     ]
    }
   ],
   "source": [
    "# no additional memory...\n",
    "def rotate(nums, k):\n",
    "    \"\"\"\n",
    "    :type nums: List[int]\n",
    "    :type k: int\n",
    "    :rtype: None Do not return anything, modify nums in-place instead.\n",
    "    \"\"\"\n",
    "    n = len(nums)\n",
    "    k = k % n\n",
    "\n",
    "    def reverse(start,end):\n",
    "        while start < end:\n",
    "            nums[start],nums[end] = nums[end],nums[start]\n",
    "            start += 1\n",
    "            end -= 1\n",
    "\n",
    "    reverse(0, n-1)\n",
    "    reverse(0, k-1)\n",
    "    reverse(k, n-1)\n",
    "\n",
    "test = [1,2,3,4,5,6,7]\n",
    "k = 3\n",
    "\n",
    "rotate(test,k)\n",
    "print(test)"
   ]
  },
  {
   "cell_type": "markdown",
   "metadata": {},
   "source": [
    "### 274. H-Index\n",
    "Given an array of integers citations where citations[i] is the number of citations a researcher received for their ith paper, return the researcher's h-index.\n",
    "\n",
    "According to the definition of h-index on Wikipedia: The h-index is defined as the maximum value of h such that the given researcher has published at least h papers that have each been cited at least h times."
   ]
  },
  {
   "cell_type": "code",
   "execution_count": 187,
   "metadata": {},
   "outputs": [
    {
     "data": {
      "text/plain": [
       "3"
      ]
     },
     "execution_count": 187,
     "metadata": {},
     "output_type": "execute_result"
    }
   ],
   "source": [
    "def hIndex(citations):\n",
    "    \"\"\"\n",
    "    :type citations: List[int]\n",
    "    :rtype: int\n",
    "    \"\"\"\n",
    "    # handle single/empty lists...\n",
    "    if len(citations) <= 1:\n",
    "        if citations[0] > 0:\n",
    "            return 1\n",
    "        else:\n",
    "            return 0\n",
    "        \n",
    "    # initialize counts, curr value and sort list...\n",
    "    tally = 0\n",
    "    value = float(\"inf\")\n",
    "    citations.sort(reverse=True)\n",
    "\n",
    "    # if the max val is 1, return 1...\n",
    "    if citations[0] == 1:\n",
    "        return 1\n",
    "\n",
    "    # iterate the articles and their co-citations...\n",
    "    for cites in citations:\n",
    "        # if number of cited articles gte next citation count, return...\n",
    "        if tally >= cites:\n",
    "            break\n",
    "\n",
    "        # if citation count lte one, return...\n",
    "        if cites <=1:\n",
    "            break\n",
    "\n",
    "        # increment tally...\n",
    "        tally += 1\n",
    "\n",
    "    return tally\n",
    "\n",
    "citations = [3,0,6,1,5]\n",
    "hIndex(citations)"
   ]
  },
  {
   "cell_type": "markdown",
   "metadata": {},
   "source": [
    "## Two Pointers <a id=\"two_pointers\"></a>\n",
    "### 125. Valid Palindrome\n",
    "A phrase is a palindrome if, after converting all uppercase letters into lowercase letters and removing all non-alphanumeric characters, it reads the same forward and backward. Alphanumeric characters include letters and numbers.\n",
    "\n",
    "Given a string s, return true if it is a palindrome, or false otherwise."
   ]
  },
  {
   "cell_type": "code",
   "execution_count": 256,
   "metadata": {},
   "outputs": [
    {
     "data": {
      "text/plain": [
       "True"
      ]
     },
     "execution_count": 256,
     "metadata": {},
     "output_type": "execute_result"
    }
   ],
   "source": [
    "def isPalindrome(s):\n",
    "    \"\"\"\n",
    "    :type s: str\n",
    "    :rtype: bool\n",
    "    \"\"\"\n",
    "    left = 0\n",
    "    right = len(s)-1\n",
    "\n",
    "    while left < right:\n",
    "        if not s[left].isalnum():\n",
    "            left += 1\n",
    "            continue\n",
    "        if not s[right].isalnum():\n",
    "            right -= 1\n",
    "            continue\n",
    "\n",
    "        if s[left].lower() != s[right].lower():\n",
    "            return False\n",
    "        \n",
    "        left += 1\n",
    "        right -= 1\n",
    "        \n",
    "    return True\n",
    "\n",
    "s = \"A man, a plan, a canal: Panama\"\n",
    "isPalindrome(s)"
   ]
  },
  {
   "cell_type": "markdown",
   "metadata": {},
   "source": [
    "### 167. Two Sum II \n",
    "Given a 1-indexed array of integers numbers that is already sorted in non-decreasing order, find two numbers such that they add up to a specific target number. Let these two numbers be numbers[index1] and numbers[index2] where 1 <= index1 < index2 <= numbers.length.\n",
    "\n",
    "Return the indices of the two numbers, index1 and index2, added by one as an integer array [index1, index2] of length 2.\n",
    "\n",
    "The tests are generated such that there is exactly one solution. You may not use the same element twice.\n",
    "\n",
    "Your solution must use only constant extra space."
   ]
  },
  {
   "cell_type": "code",
   "execution_count": 270,
   "metadata": {},
   "outputs": [
    {
     "data": {
      "text/plain": [
       "[1, 2]"
      ]
     },
     "execution_count": 270,
     "metadata": {},
     "output_type": "execute_result"
    }
   ],
   "source": [
    "def twoSum(numbers, target):\n",
    "    \"\"\"\n",
    "    :type numbers: List[int]\n",
    "    :type target: int\n",
    "    :rtype: List[int]\n",
    "    \"\"\"\n",
    "    # initialize left and right pointers...\n",
    "    left = 0\n",
    "    right = len(numbers)-1\n",
    "\n",
    "    # loop until pointers meet in middle...\n",
    "    while left < right:\n",
    "        # if target found, return indices...\n",
    "        if numbers[left] + numbers[right] == target:\n",
    "            return [left+1, right+1]\n",
    "        # if target exceeded, decrement right index...\n",
    "        elif numbers[left] + numbers[right] > target:\n",
    "            right -= 1\n",
    "        # increment left index...\n",
    "        else:\n",
    "            left += 1\n",
    "        \n",
    "        \n",
    "numbers = [2,7,11,15]\n",
    "target = 9\n",
    "twoSum(numbers,target)"
   ]
  },
  {
   "cell_type": "markdown",
   "metadata": {},
   "source": [
    "### 392. Is Subsequence\n",
    "Given two strings s and t, return true if s is a subsequence of t, or false otherwise.\n",
    "\n",
    "A subsequence of a string is a new string that is formed from the original string by deleting some (can be none) of the characters without disturbing the relative positions of the remaining characters. (i.e., \"ace\" is a subsequence of \"abcde\" while \"aec\" is not)."
   ]
  },
  {
   "cell_type": "code",
   "execution_count": 262,
   "metadata": {},
   "outputs": [
    {
     "data": {
      "text/plain": [
       "True"
      ]
     },
     "execution_count": 262,
     "metadata": {},
     "output_type": "execute_result"
    }
   ],
   "source": [
    "def isSubsequence(s, t):\n",
    "    \"\"\"\n",
    "    :type s: str\n",
    "    :type t: str\n",
    "    :rtype: bool\n",
    "    \"\"\"\n",
    "    if len(s) == 0:\n",
    "        return True\n",
    "\n",
    "    left = 0\n",
    "    right = 0\n",
    "\n",
    "    while left < len(s) and right < len(t):\n",
    "        if s[left] == t[right]:\n",
    "            left += 1\n",
    "            right += 1\n",
    "        else:\n",
    "            right += 1\n",
    "\n",
    "    if left == len(s):\n",
    "        return True\n",
    "    else:\n",
    "        return False\n",
    "\n",
    "s = \"abc\"\n",
    "t = \"ahbgdc\"\n",
    "isSubsequence(s,t)"
   ]
  },
  {
   "cell_type": "markdown",
   "metadata": {},
   "source": [
    "## Sliding Window <a id=\"sliding_window\"></a>\n",
    "### 3. Longest Substring Without Repeating\n",
    "Given a string $s$, find the length of the longest substring without repeating characters."
   ]
  },
  {
   "cell_type": "code",
   "execution_count": 28,
   "metadata": {},
   "outputs": [
    {
     "data": {
      "text/plain": [
       "3"
      ]
     },
     "execution_count": 28,
     "metadata": {},
     "output_type": "execute_result"
    }
   ],
   "source": [
    "def lengthOfLongestSubstring(s):\n",
    "    \"\"\"\n",
    "    :type s: str\n",
    "    :rtype: int\n",
    "    \"\"\"\n",
    "    left = 0\n",
    "    max_length = 0\n",
    "\n",
    "    letters = []\n",
    "\n",
    "    for right in range(len(s)):\n",
    "        while s[right] in letters:\n",
    "            letters.pop(0)\n",
    "            left += 1\n",
    "\n",
    "        if s[right] not in letters:\n",
    "            letters.append(s[right])\n",
    "\n",
    "            if right-left+1 > max_length:\n",
    "                max_length = right-left+1\n",
    "\n",
    "    return max_length\n",
    "\n",
    "#s = \"pwwkew\"\n",
    "#s = \"bbbbb\"\n",
    "s = \"abcabcbb\"\n",
    "lengthOfLongestSubstring(s)"
   ]
  },
  {
   "cell_type": "code",
   "execution_count": 27,
   "metadata": {},
   "outputs": [
    {
     "data": {
      "text/plain": [
       "3"
      ]
     },
     "execution_count": 27,
     "metadata": {},
     "output_type": "execute_result"
    }
   ],
   "source": [
    "def lengthOfLongestSubstring(s):\n",
    "    \"\"\"\n",
    "    :type s: str\n",
    "    :rtype: int\n",
    "    \"\"\"\n",
    "    chars = set()\n",
    "    left = 0\n",
    "    max_length = 0\n",
    "\n",
    "    for right in range(len(s)):\n",
    "        while s[right] in chars:\n",
    "            chars.remove(s[left])\n",
    "            left += 1\n",
    "        \n",
    "        chars.add(s[right])\n",
    "\n",
    "        max_length = max(max_length, right-left+1)\n",
    "\n",
    "    return max_length\n",
    "\n",
    "s = \"abcabcbb\"\n",
    "lengthOfLongestSubstring(s)"
   ]
  },
  {
   "cell_type": "markdown",
   "metadata": {},
   "source": [
    "\n",
    "### 209. Minimize Size Subarray Sum\n",
    "Given an array of positive integers nums and a positive integer target, return the minimal length of a subarray whose sum is greater than or equal to target. If there is no such subarray, return 0 instead.\n",
    "\n",
    "The first attempt incorrectly sorts the array before applying our logic."
   ]
  },
  {
   "cell_type": "code",
   "execution_count": 16,
   "metadata": {},
   "outputs": [
    {
     "name": "stdout",
     "output_type": "stream",
     "text": [
      "[83, 28, 26, 25, 25, 25, 25, 25, 12, 12, 4, 2]\n",
      "total after 1 rounds: 83\n",
      "total after 2 rounds: 111\n",
      "total after 3 rounds: 137\n",
      "total after 4 rounds: 162\n",
      "total after 5 rounds: 187\n",
      "total after 6 rounds: 212\n",
      "total after 7 rounds: 237\n"
     ]
    },
    {
     "data": {
      "text/plain": [
       "7"
      ]
     },
     "execution_count": 16,
     "metadata": {},
     "output_type": "execute_result"
    }
   ],
   "source": [
    "def minSubArrayLen(target, nums):\n",
    "    \"\"\"\n",
    "    :type target: int\n",
    "    :type nums: List[int]\n",
    "    :rtype: int\n",
    "    \"\"\"\n",
    "    nums.sort(reverse=True)\n",
    "    print(nums)\n",
    "\n",
    "    total = 0\n",
    "    i = 0\n",
    "\n",
    "    while i < len(nums):\n",
    "        total += nums[i]\n",
    "        i += 1\n",
    "        print(f\"total after {i} rounds: {total}\")\n",
    "\n",
    "        if total >= target:\n",
    "            return i\n",
    "        \n",
    "    return 0\n",
    "\n",
    "#nums = [2,3,1,2,4,3]\n",
    "#target = 7\n",
    "nums = [12,28,83,4,25,26,25,2,25,25,25,12]\n",
    "target = 213\n",
    "minSubArrayLen(target,nums)"
   ]
  },
  {
   "cell_type": "code",
   "execution_count": 15,
   "metadata": {},
   "outputs": [
    {
     "data": {
      "text/plain": [
       "8"
      ]
     },
     "execution_count": 15,
     "metadata": {},
     "output_type": "execute_result"
    }
   ],
   "source": [
    "def minSubArrayLen(target, nums):\n",
    "    # initialize left and max length...\n",
    "    left = 0\n",
    "    n = len(nums)\n",
    "\n",
    "    # define sum and min_length placeholders...\n",
    "    current_sum = 0\n",
    "    min_length = float('inf')  # Set to a very large number initially\n",
    "\n",
    "    # iterate the list adding subsequent right values...\n",
    "    for right in range(n):\n",
    "        current_sum += nums[right]\n",
    "\n",
    "        # once met, shrink left to minimize subarray...\n",
    "        while current_sum >= target:\n",
    "            # if minimized, update minimum...\n",
    "            if (right-left+1) < min_length:\n",
    "                min_length = right - left + 1\n",
    "\n",
    "            # update new sum and decrement left index...\n",
    "            current_sum -= nums[left]\n",
    "            left += 1\n",
    "\n",
    "    # if min_length was updated return minimum...\n",
    "    if min_length != float('inf'):\n",
    "        return min_length \n",
    "    \n",
    "    # return 0...\n",
    "    else:\n",
    "        return 0\n",
    "\n",
    "nums = [12,28,83,4,25,26,25,2,25,25,25,12]\n",
    "target = 213\n",
    "minSubArrayLen(target,nums)"
   ]
  },
  {
   "cell_type": "markdown",
   "metadata": {},
   "source": [
    "## Matrix <a id=\"matrix\"></a>"
   ]
  },
  {
   "cell_type": "markdown",
   "metadata": {},
   "source": [
    "## Hashmap <a id=\"hashmap\"></a>\n",
    "### 383. Ransom Note\n",
    "Given two strings `ransomNote` and `magazine`, return **true** if `ransomNote` can be constructed by using the letters from `magazine` and **false** otherwise.\n",
    "\n",
    "Each letter in magazine can only be used once in `ransomNote`."
   ]
  },
  {
   "cell_type": "code",
   "execution_count": 33,
   "metadata": {},
   "outputs": [
    {
     "data": {
      "text/plain": [
       "False"
      ]
     },
     "execution_count": 33,
     "metadata": {},
     "output_type": "execute_result"
    }
   ],
   "source": [
    "def canConstruct(ransomNote, magazine):\n",
    "    \"\"\"\n",
    "    :type ransomNote: str\n",
    "    :type magazine: str\n",
    "    :rtype: bool\n",
    "    \"\"\"\n",
    "    avail_letters = {}\n",
    "    for letter in magazine:\n",
    "        if avail_letters.get(letter):\n",
    "            avail_letters[letter] += 1\n",
    "        else:\n",
    "            avail_letters[letter] = 1\n",
    "\n",
    "    for letter in ransomNote:\n",
    "        valid = avail_letters.get(letter)\n",
    "        if not valid:\n",
    "            return False\n",
    "        \n",
    "        if valid >= 1:\n",
    "            avail_letters[letter] -= 1\n",
    "        else:\n",
    "            return False\n",
    "    \n",
    "    return True\n",
    "\n",
    "ransom = \"a\"\n",
    "magazine = \"b\"\n",
    "canConstruct(ransom,magazine)"
   ]
  },
  {
   "cell_type": "markdown",
   "metadata": {},
   "source": [
    "## Intervals <a id=\"intervals\"></a>"
   ]
  },
  {
   "cell_type": "markdown",
   "metadata": {},
   "source": []
  }
 ],
 "metadata": {
  "kernelspec": {
   "display_name": "Python 3",
   "language": "python",
   "name": "python3"
  },
  "language_info": {
   "codemirror_mode": {
    "name": "ipython",
    "version": 3
   },
   "file_extension": ".py",
   "mimetype": "text/x-python",
   "name": "python",
   "nbconvert_exporter": "python",
   "pygments_lexer": "ipython3",
   "version": "3.12.8"
  }
 },
 "nbformat": 4,
 "nbformat_minor": 2
}
